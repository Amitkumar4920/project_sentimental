{
  "nbformat": 4,
  "nbformat_minor": 0,
  "metadata": {
    "colab": {
      "provenance": []
    },
    "kernelspec": {
      "name": "python3",
      "display_name": "Python 3"
    },
    "language_info": {
      "name": "python"
    }
  },
  "cells": [
    {
      "cell_type": "code",
      "execution_count": 1,
      "metadata": {
        "colab": {
          "base_uri": "https://localhost:8080/"
        },
        "id": "nrhD_HRhUZPc",
        "outputId": "b0921976-6b53-4c2a-af93-63321aed212d"
      },
      "outputs": [
        {
          "output_type": "stream",
          "name": "stdout",
          "text": [
            "Requirement already satisfied: pandas in /usr/local/lib/python3.10/dist-packages (2.1.4)\n",
            "Requirement already satisfied: textblob in /usr/local/lib/python3.10/dist-packages (0.17.1)\n",
            "Collecting vaderSentiment\n",
            "  Downloading vaderSentiment-3.3.2-py2.py3-none-any.whl.metadata (572 bytes)\n",
            "Requirement already satisfied: nltk in /usr/local/lib/python3.10/dist-packages (3.8.1)\n",
            "Requirement already satisfied: numpy<2,>=1.22.4 in /usr/local/lib/python3.10/dist-packages (from pandas) (1.26.4)\n",
            "Requirement already satisfied: python-dateutil>=2.8.2 in /usr/local/lib/python3.10/dist-packages (from pandas) (2.8.2)\n",
            "Requirement already satisfied: pytz>=2020.1 in /usr/local/lib/python3.10/dist-packages (from pandas) (2024.2)\n",
            "Requirement already satisfied: tzdata>=2022.1 in /usr/local/lib/python3.10/dist-packages (from pandas) (2024.1)\n",
            "Requirement already satisfied: requests in /usr/local/lib/python3.10/dist-packages (from vaderSentiment) (2.32.3)\n",
            "Requirement already satisfied: click in /usr/local/lib/python3.10/dist-packages (from nltk) (8.1.7)\n",
            "Requirement already satisfied: joblib in /usr/local/lib/python3.10/dist-packages (from nltk) (1.4.2)\n",
            "Requirement already satisfied: regex>=2021.8.3 in /usr/local/lib/python3.10/dist-packages (from nltk) (2024.5.15)\n",
            "Requirement already satisfied: tqdm in /usr/local/lib/python3.10/dist-packages (from nltk) (4.66.5)\n",
            "Requirement already satisfied: six>=1.5 in /usr/local/lib/python3.10/dist-packages (from python-dateutil>=2.8.2->pandas) (1.16.0)\n",
            "Requirement already satisfied: charset-normalizer<4,>=2 in /usr/local/lib/python3.10/dist-packages (from requests->vaderSentiment) (3.3.2)\n",
            "Requirement already satisfied: idna<4,>=2.5 in /usr/local/lib/python3.10/dist-packages (from requests->vaderSentiment) (3.8)\n",
            "Requirement already satisfied: urllib3<3,>=1.21.1 in /usr/local/lib/python3.10/dist-packages (from requests->vaderSentiment) (2.0.7)\n",
            "Requirement already satisfied: certifi>=2017.4.17 in /usr/local/lib/python3.10/dist-packages (from requests->vaderSentiment) (2024.8.30)\n",
            "Downloading vaderSentiment-3.3.2-py2.py3-none-any.whl (125 kB)\n",
            "\u001b[2K   \u001b[90m━━━━━━━━━━━━━━━━━━━━━━━━━━━━━━━━━━━━━━━━\u001b[0m \u001b[32m126.0/126.0 kB\u001b[0m \u001b[31m1.2 MB/s\u001b[0m eta \u001b[36m0:00:00\u001b[0m\n",
            "\u001b[?25hInstalling collected packages: vaderSentiment\n",
            "Successfully installed vaderSentiment-3.3.2\n"
          ]
        }
      ],
      "source": [
        "pip install pandas textblob vaderSentiment nltk"
      ]
    },
    {
      "cell_type": "code",
      "source": [
        "import pandas as pd\n",
        "from textblob import TextBlob\n",
        "from vaderSentiment.vaderSentiment import SentimentIntensityAnalyzer\n",
        "\n",
        "# Load the dataset\n",
        "df = pd.read_csv('/content/amazon.csv')"
      ],
      "metadata": {
        "id": "JN7tgMKVUaTP"
      },
      "execution_count": 4,
      "outputs": []
    },
    {
      "cell_type": "code",
      "source": [
        "print(df.head())"
      ],
      "metadata": {
        "colab": {
          "base_uri": "https://localhost:8080/"
        },
        "id": "kTDvAPqtUyzE",
        "outputId": "8b986f6a-74d8-4131-ffe6-d6bd7ef2e4f4"
      },
      "execution_count": 5,
      "outputs": [
        {
          "output_type": "stream",
          "name": "stdout",
          "text": [
            "   Unnamed: 0  reviewerName  overall  \\\n",
            "0           0           NaN        4   \n",
            "1           1          0mie        5   \n",
            "2           2           1K3        4   \n",
            "3           3           1m2        5   \n",
            "4           4  2&amp;1/2Men        5   \n",
            "\n",
            "                                          reviewText  reviewTime  day_diff  \\\n",
            "0                                         No issues.  23-07-2014       138   \n",
            "1  Purchased this for my device, it worked as adv...  25-10-2013       409   \n",
            "2  it works as expected. I should have sprung for...  23-12-2012       715   \n",
            "3  This think has worked out great.Had a diff. br...  21-11-2013       382   \n",
            "4  Bought it with Retail Packaging, arrived legit...  13-07-2013       513   \n",
            "\n",
            "   helpful_yes  helpful_no  total_vote  score_pos_neg_diff  \\\n",
            "0            0           0           0                   0   \n",
            "1            0           0           0                   0   \n",
            "2            0           0           0                   0   \n",
            "3            0           0           0                   0   \n",
            "4            0           0           0                   0   \n",
            "\n",
            "   score_average_rating  wilson_lower_bound  \n",
            "0                   0.0                 0.0  \n",
            "1                   0.0                 0.0  \n",
            "2                   0.0                 0.0  \n",
            "3                   0.0                 0.0  \n",
            "4                   0.0                 0.0  \n"
          ]
        }
      ]
    },
    {
      "cell_type": "code",
      "source": [
        "# Assuming the reviews are in a column called 'review'\n",
        "df['review'] = df['reviewText'].astype(str).str.lower()  # Convert to lowercase"
      ],
      "metadata": {
        "id": "LRbL_p6yUaVC"
      },
      "execution_count": 6,
      "outputs": []
    },
    {
      "cell_type": "code",
      "source": [
        "# Define a function to get the polarity of each review\n",
        "def get_textblob_sentiment(text):\n",
        "    analysis = TextBlob(text)\n",
        "    return analysis.sentiment.polarity\n",
        "\n",
        "# Apply the function to each review\n",
        "df['textblob_polarity'] = df['review'].apply(get_textblob_sentiment)\n",
        "\n",
        "# Display the polarity scores\n",
        "print(df[['review', 'textblob_polarity']].head())\n"
      ],
      "metadata": {
        "colab": {
          "base_uri": "https://localhost:8080/"
        },
        "id": "htXc9aAkUxdR",
        "outputId": "696cd908-6dd9-4699-d89a-9b457725f81f"
      },
      "execution_count": 7,
      "outputs": [
        {
          "output_type": "stream",
          "name": "stdout",
          "text": [
            "                                              review  textblob_polarity\n",
            "0                                         no issues.           0.000000\n",
            "1  purchased this for my device, it worked as adv...           0.200000\n",
            "2  it works as expected. i should have sprung for...           0.129167\n",
            "3  this think has worked out great.had a diff. br...           0.000000\n",
            "4  bought it with retail packaging, arrived legit...           0.386667\n"
          ]
        }
      ]
    },
    {
      "cell_type": "code",
      "source": [
        "# Initialize VADER sentiment analyzer\n",
        "analyzer = SentimentIntensityAnalyzer()\n",
        "\n",
        "# Define a function to get the compound sentiment score\n",
        "def get_vader_sentiment(text):\n",
        "    sentiment_dict = analyzer.polarity_scores(text)\n",
        "    return sentiment_dict['compound']\n",
        "\n",
        "# Apply the function to each review\n",
        "df['vader_compound'] = df['review'].apply(get_vader_sentiment)\n",
        "\n",
        "# Display the VADER scores\n",
        "print(df[['review', 'vader_compound']].head())\n"
      ],
      "metadata": {
        "colab": {
          "base_uri": "https://localhost:8080/"
        },
        "id": "mD7faWQqUaWF",
        "outputId": "8e3d7911-dcf7-4fb1-9827-2b7118b82118"
      },
      "execution_count": 8,
      "outputs": [
        {
          "output_type": "stream",
          "name": "stdout",
          "text": [
            "                                              review  vader_compound\n",
            "0                                         no issues.         -0.2960\n",
            "1  purchased this for my device, it worked as adv...         -0.2960\n",
            "2  it works as expected. i should have sprung for...         -0.3089\n",
            "3  this think has worked out great.had a diff. br...          0.7081\n",
            "4  bought it with retail packaging, arrived legit...          0.7087\n"
          ]
        }
      ]
    },
    {
      "cell_type": "code",
      "source": [
        "# TextBlob classification\n",
        "df['textblob_sentiment'] = df['textblob_polarity'].apply(lambda x: 'positive' if x > 0 else ('negative' if x < 0 else 'neutral'))\n",
        "\n",
        "# VADER classification\n",
        "df['vader_sentiment'] = df['vader_compound'].apply(lambda x: 'positive' if x >= 0.05 else ('negative' if x <= -0.05 else 'neutral'))\n",
        "\n",
        "# Display the classified sentiments\n",
        "print(df[['review', 'textblob_sentiment', 'vader_sentiment']].head())\n"
      ],
      "metadata": {
        "colab": {
          "base_uri": "https://localhost:8080/"
        },
        "id": "euRncQ2MUaXd",
        "outputId": "9f2de21b-c303-4ea7-e25e-0eedf97b197f"
      },
      "execution_count": 9,
      "outputs": [
        {
          "output_type": "stream",
          "name": "stdout",
          "text": [
            "                                              review textblob_sentiment  \\\n",
            "0                                         no issues.            neutral   \n",
            "1  purchased this for my device, it worked as adv...           positive   \n",
            "2  it works as expected. i should have sprung for...           positive   \n",
            "3  this think has worked out great.had a diff. br...            neutral   \n",
            "4  bought it with retail packaging, arrived legit...           positive   \n",
            "\n",
            "  vader_sentiment  \n",
            "0        negative  \n",
            "1        negative  \n",
            "2        negative  \n",
            "3        positive  \n",
            "4        positive  \n"
          ]
        }
      ]
    },
    {
      "cell_type": "code",
      "source": [
        "df.to_csv('amazon_reviews_with_sentiment.csv', index=False)"
      ],
      "metadata": {
        "id": "P0_io91EUabn"
      },
      "execution_count": 10,
      "outputs": []
    },
    {
      "cell_type": "code",
      "source": [],
      "metadata": {
        "id": "MSkb4TpiUafB"
      },
      "execution_count": null,
      "outputs": []
    },
    {
      "cell_type": "code",
      "source": [],
      "metadata": {
        "id": "sr09boMuUagU"
      },
      "execution_count": null,
      "outputs": []
    },
    {
      "cell_type": "code",
      "source": [],
      "metadata": {
        "id": "J8bCvO9EUahl"
      },
      "execution_count": null,
      "outputs": []
    },
    {
      "cell_type": "code",
      "source": [],
      "metadata": {
        "id": "4cMm506UUak8"
      },
      "execution_count": null,
      "outputs": []
    },
    {
      "cell_type": "code",
      "source": [],
      "metadata": {
        "id": "_mK2xiw4UamK"
      },
      "execution_count": null,
      "outputs": []
    },
    {
      "cell_type": "code",
      "source": [],
      "metadata": {
        "id": "STSwnqagUanU"
      },
      "execution_count": null,
      "outputs": []
    },
    {
      "cell_type": "code",
      "source": [],
      "metadata": {
        "id": "cvUx7WI5Uaop"
      },
      "execution_count": null,
      "outputs": []
    },
    {
      "cell_type": "code",
      "source": [],
      "metadata": {
        "id": "He4V7bcYUatQ"
      },
      "execution_count": null,
      "outputs": []
    }
  ]
}